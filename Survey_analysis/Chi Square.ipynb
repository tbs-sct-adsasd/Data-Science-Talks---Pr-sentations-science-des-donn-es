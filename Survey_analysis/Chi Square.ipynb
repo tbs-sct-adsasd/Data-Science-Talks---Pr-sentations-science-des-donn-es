{
 "cells": [
  {
   "cell_type": "code",
   "execution_count": 13,
   "metadata": {},
   "outputs": [
    {
     "data": {
      "text/html": [
       "<div>\n",
       "<style scoped>\n",
       "    .dataframe tbody tr th:only-of-type {\n",
       "        vertical-align: middle;\n",
       "    }\n",
       "\n",
       "    .dataframe tbody tr th {\n",
       "        vertical-align: top;\n",
       "    }\n",
       "\n",
       "    .dataframe thead th {\n",
       "        text-align: right;\n",
       "    }\n",
       "</style>\n",
       "<table border=\"1\" class=\"dataframe\">\n",
       "  <thead>\n",
       "    <tr style=\"text-align: right;\">\n",
       "      <th></th>\n",
       "      <th>buyer_type</th>\n",
       "      <th>Flat</th>\n",
       "      <th>Bungalow</th>\n",
       "      <th>Detached house</th>\n",
       "      <th>Terrace</th>\n",
       "    </tr>\n",
       "  </thead>\n",
       "  <tbody>\n",
       "    <tr>\n",
       "      <th>0</th>\n",
       "      <td>Single Male</td>\n",
       "      <td>40</td>\n",
       "      <td>4</td>\n",
       "      <td>8</td>\n",
       "      <td>16</td>\n",
       "    </tr>\n",
       "    <tr>\n",
       "      <th>1</th>\n",
       "      <td>Single Female</td>\n",
       "      <td>30</td>\n",
       "      <td>4</td>\n",
       "      <td>16</td>\n",
       "      <td>7</td>\n",
       "    </tr>\n",
       "    <tr>\n",
       "      <th>2</th>\n",
       "      <td>Married Couple</td>\n",
       "      <td>16</td>\n",
       "      <td>14</td>\n",
       "      <td>26</td>\n",
       "      <td>45</td>\n",
       "    </tr>\n",
       "    <tr>\n",
       "      <th>3</th>\n",
       "      <td>Family</td>\n",
       "      <td>10</td>\n",
       "      <td>16</td>\n",
       "      <td>42</td>\n",
       "      <td>39</td>\n",
       "    </tr>\n",
       "  </tbody>\n",
       "</table>\n",
       "</div>"
      ],
      "text/plain": [
       "       buyer_type  Flat  Bungalow  Detached house  Terrace\n",
       "0     Single Male    40         4               8       16\n",
       "1   Single Female    30         4              16        7\n",
       "2  Married Couple    16        14              26       45\n",
       "3          Family    10        16              42       39"
      ]
     },
     "execution_count": 13,
     "metadata": {},
     "output_type": "execute_result"
    }
   ],
   "source": [
    "import pandas as pd\n",
    "from pandas.plotting import scatter_matrix\n",
    "import matplotlib.pyplot as plt\n",
    "import numpy as np\n",
    "from scipy.stats import chi2_contingency\n",
    "import math\n",
    "\n",
    "plt.rcParams['figure.figsize']= [15,15]\n",
    "\n",
    "df=pd.read_csv('chi_square-housing.csv')\n",
    "headers= list(df.columns)\n",
    "df"
   ]
  },
  {
   "cell_type": "code",
   "execution_count": 14,
   "metadata": {},
   "outputs": [
    {
     "name": "stdout",
     "output_type": "stream",
     "text": [
      "Chi-Square: 82.50366081348409\n",
      "p-value: 0.0\n",
      "Degrees of freedom: 9\n"
     ]
    },
    {
     "data": {
      "text/html": [
       "<div>\n",
       "<style scoped>\n",
       "    .dataframe tbody tr th:only-of-type {\n",
       "        vertical-align: middle;\n",
       "    }\n",
       "\n",
       "    .dataframe tbody tr th {\n",
       "        vertical-align: top;\n",
       "    }\n",
       "\n",
       "    .dataframe thead th {\n",
       "        text-align: right;\n",
       "    }\n",
       "</style>\n",
       "<table border=\"1\" class=\"dataframe\">\n",
       "  <thead>\n",
       "    <tr style=\"text-align: right;\">\n",
       "      <th></th>\n",
       "      <th>Buyer Type</th>\n",
       "      <th>Flat</th>\n",
       "      <th>Bungalow</th>\n",
       "      <th>Detached house</th>\n",
       "      <th>Terrace</th>\n",
       "    </tr>\n",
       "  </thead>\n",
       "  <tbody>\n",
       "    <tr>\n",
       "      <th>0</th>\n",
       "      <td>Male observed</td>\n",
       "      <td>40.00</td>\n",
       "      <td>4.00</td>\n",
       "      <td>8.00</td>\n",
       "      <td>16.00</td>\n",
       "    </tr>\n",
       "    <tr>\n",
       "      <th>0</th>\n",
       "      <td>Male expected</td>\n",
       "      <td>19.60</td>\n",
       "      <td>7.76</td>\n",
       "      <td>18.79</td>\n",
       "      <td>21.85</td>\n",
       "    </tr>\n",
       "    <tr>\n",
       "      <th>1</th>\n",
       "      <td>Female Observed</td>\n",
       "      <td>30.00</td>\n",
       "      <td>4.00</td>\n",
       "      <td>16.00</td>\n",
       "      <td>7.00</td>\n",
       "    </tr>\n",
       "    <tr>\n",
       "      <th>1</th>\n",
       "      <td>Female Expected</td>\n",
       "      <td>16.43</td>\n",
       "      <td>6.50</td>\n",
       "      <td>15.75</td>\n",
       "      <td>18.32</td>\n",
       "    </tr>\n",
       "    <tr>\n",
       "      <th>2</th>\n",
       "      <td>Married observed</td>\n",
       "      <td>16.00</td>\n",
       "      <td>14.00</td>\n",
       "      <td>26.00</td>\n",
       "      <td>45.00</td>\n",
       "    </tr>\n",
       "    <tr>\n",
       "      <th>2</th>\n",
       "      <td>Married Expected</td>\n",
       "      <td>29.12</td>\n",
       "      <td>11.53</td>\n",
       "      <td>27.90</td>\n",
       "      <td>32.45</td>\n",
       "    </tr>\n",
       "    <tr>\n",
       "      <th>3</th>\n",
       "      <td>Family observed</td>\n",
       "      <td>10.00</td>\n",
       "      <td>16.00</td>\n",
       "      <td>42.00</td>\n",
       "      <td>39.00</td>\n",
       "    </tr>\n",
       "    <tr>\n",
       "      <th>3</th>\n",
       "      <td>Family Expected</td>\n",
       "      <td>30.85</td>\n",
       "      <td>12.21</td>\n",
       "      <td>29.56</td>\n",
       "      <td>34.38</td>\n",
       "    </tr>\n",
       "  </tbody>\n",
       "</table>\n",
       "</div>"
      ],
      "text/plain": [
       "         Buyer Type   Flat  Bungalow  Detached house  Terrace\n",
       "0     Male observed  40.00      4.00            8.00    16.00\n",
       "0     Male expected  19.60      7.76           18.79    21.85\n",
       "1   Female Observed  30.00      4.00           16.00     7.00\n",
       "1   Female Expected  16.43      6.50           15.75    18.32\n",
       "2  Married observed  16.00     14.00           26.00    45.00\n",
       "2  Married Expected  29.12     11.53           27.90    32.45\n",
       "3   Family observed  10.00     16.00           42.00    39.00\n",
       "3   Family Expected  30.85     12.21           29.56    34.38"
      ]
     },
     "execution_count": 14,
     "metadata": {},
     "output_type": "execute_result"
    }
   ],
   "source": [
    "remove_labels= df.iloc[0:5,1:5]\n",
    "chi2, p_value, dof, expected_freq= chi2_contingency(np.array(remove_labels))\n",
    "print('Chi-Square:', chi2)\n",
    "print('p-value:', round(p_value,8))\n",
    "print('Degrees of freedom:', dof)\n",
    "headers\n",
    "\n",
    "ex= pd.DataFrame(expected_freq, columns=headers[1:5])\n",
    "\n",
    "male= df.iloc[0:1, 1:].append(ex.iloc[0])\n",
    "female= df.iloc[1:2,1:5].append(ex.iloc[1])\n",
    "married= df.iloc[2:3, 1:5].append(ex.iloc[2])\n",
    "fam= df.iloc[3:4, 1:5].append(ex.iloc[3])\n",
    "combined_df= male.append(female).append(married).append(fam)\n",
    "\n",
    "combined_df.insert(0,'Buyer Type', ['Male observed', 'Male expected', 'Female Observed', 'Female Expected',\n",
    "                                    'Married observed', 'Married Expected', 'Family observed', 'Family Expected'])\n",
    "\n",
    "combined_df.round(2)\n",
    "\n"
   ]
  },
  {
   "cell_type": "markdown",
   "metadata": {},
   "source": [
    "with a p-value less than 0.05, we are able to reject the null hypothesis (no association between the variables)"
   ]
  },
  {
   "cell_type": "code",
   "execution_count": 28,
   "metadata": {},
   "outputs": [],
   "source": [
    "def cramersV(nrows, ncols, chisquared):\n",
    "    #source: https://gist.github.com/dtemkin/04e653c8f19e8ac0c4965b797ba2af2b\n",
    "   nobs = nrows*ncols\n",
    "   phi = chisquared/nobs\n",
    "   V = math.sqrt((phi)/(nobs*min(nrows-1, ncols-1)))\n",
    "   return np.array([V, phi])\n"
   ]
  },
  {
   "cell_type": "code",
   "execution_count": 32,
   "metadata": {},
   "outputs": [],
   "source": [
    "row, column = df.shape\n",
    "V, phi= cramersV(row, (column-1), chi2)\n"
   ]
  },
  {
   "cell_type": "code",
   "execution_count": 34,
   "metadata": {},
   "outputs": [
    {
     "name": "stdout",
     "output_type": "stream",
     "text": [
      "Cramers V:  0.32776003674063753\n",
      "Phi:  5.156478800842756\n"
     ]
    }
   ],
   "source": [
    "print('Cramers V: ', V)\n",
    "print('Phi: ', phi)"
   ]
  },
  {
   "cell_type": "markdown",
   "metadata": {},
   "source": [
    "With this Cramer's V, we are able to say the association between buyer and housing type is medium."
   ]
  }
 ],
 "metadata": {
  "kernelspec": {
   "display_name": "Python 3",
   "language": "python",
   "name": "python3"
  },
  "language_info": {
   "codemirror_mode": {
    "name": "ipython",
    "version": 3
   },
   "file_extension": ".py",
   "mimetype": "text/x-python",
   "name": "python",
   "nbconvert_exporter": "python",
   "pygments_lexer": "ipython3",
   "version": "3.7.3"
  }
 },
 "nbformat": 4,
 "nbformat_minor": 2
}
