{
 "cells": [
  {
   "cell_type": "markdown",
   "metadata": {},
   "source": [
    "# Chi square \n",
    "\n",
    "\n",
    "Test of association between buyer type and house type "
   ]
  },
  {
   "cell_type": "code",
   "execution_count": 17,
   "metadata": {},
   "outputs": [
    {
     "name": "stderr",
     "output_type": "stream",
     "text": [
      "Installing package into 'C:/Users/MIMBODEN/Documents/R/win-library/3.6'\n",
      "(as 'lib' is unspecified)\n"
     ]
    },
    {
     "name": "stdout",
     "output_type": "stream",
     "text": [
      "package 'lsr' successfully unpacked and MD5 sums checked\n",
      "\n",
      "The downloaded binary packages are in\n",
      "\tC:\\Users\\MIMBODEN\\AppData\\Local\\Temp\\RtmpQ7UubH\\downloaded_packages\n"
     ]
    }
   ],
   "source": [
    "install.packages(\"lsr\")"
   ]
  },
  {
   "cell_type": "code",
   "execution_count": 18,
   "metadata": {
    "scrolled": true
   },
   "outputs": [
    {
     "data": {
      "text/html": [
       "<table>\n",
       "<caption>A data.frame: 4 × 4</caption>\n",
       "<thead>\n",
       "\t<tr><th></th><th scope=col>Flat</th><th scope=col>Bungalow</th><th scope=col>Detached.house</th><th scope=col>Terrace</th></tr>\n",
       "\t<tr><th></th><th scope=col>&lt;int&gt;</th><th scope=col>&lt;int&gt;</th><th scope=col>&lt;int&gt;</th><th scope=col>&lt;int&gt;</th></tr>\n",
       "</thead>\n",
       "<tbody>\n",
       "\t<tr><th scope=row>Single Male</th><td>40</td><td> 4</td><td> 8</td><td>16</td></tr>\n",
       "\t<tr><th scope=row>Single Female</th><td>30</td><td> 4</td><td>16</td><td> 7</td></tr>\n",
       "\t<tr><th scope=row>Married Couple</th><td>16</td><td>14</td><td>26</td><td>45</td></tr>\n",
       "\t<tr><th scope=row>Family</th><td>10</td><td>16</td><td>42</td><td>39</td></tr>\n",
       "</tbody>\n",
       "</table>\n"
      ],
      "text/latex": [
       "A data.frame: 4 × 4\n",
       "\\begin{tabular}{r|llll}\n",
       "  & Flat & Bungalow & Detached.house & Terrace\\\\\n",
       "  & <int> & <int> & <int> & <int>\\\\\n",
       "\\hline\n",
       "\tSingle Male & 40 &  4 &  8 & 16\\\\\n",
       "\tSingle Female & 30 &  4 & 16 &  7\\\\\n",
       "\tMarried Couple & 16 & 14 & 26 & 45\\\\\n",
       "\tFamily & 10 & 16 & 42 & 39\\\\\n",
       "\\end{tabular}\n"
      ],
      "text/markdown": [
       "\n",
       "A data.frame: 4 × 4\n",
       "\n",
       "| <!--/--> | Flat &lt;int&gt; | Bungalow &lt;int&gt; | Detached.house &lt;int&gt; | Terrace &lt;int&gt; |\n",
       "|---|---|---|---|---|\n",
       "| Single Male | 40 |  4 |  8 | 16 |\n",
       "| Single Female | 30 |  4 | 16 |  7 |\n",
       "| Married Couple | 16 | 14 | 26 | 45 |\n",
       "| Family | 10 | 16 | 42 | 39 |\n",
       "\n"
      ],
      "text/plain": [
       "               Flat Bungalow Detached.house Terrace\n",
       "Single Male    40    4        8             16     \n",
       "Single Female  30    4       16              7     \n",
       "Married Couple 16   14       26             45     \n",
       "Family         10   16       42             39     "
      ]
     },
     "metadata": {},
     "output_type": "display_data"
    }
   ],
   "source": [
    "library(lsr)\n",
    "df<-read.delim(\"chi_square-housing.csv\", row.names=1, sep=\",\")\n",
    "df"
   ]
  },
  {
   "cell_type": "code",
   "execution_count": 12,
   "metadata": {},
   "outputs": [
    {
     "data": {
      "text/plain": [
       "\n",
       "\tPearson's Chi-squared test\n",
       "\n",
       "data:  df\n",
       "X-squared = 82.504, df = 9, p-value = 5.134e-14\n"
      ]
     },
     "metadata": {},
     "output_type": "display_data"
    }
   ],
   "source": [
    "\n",
    "chi.square<-chisq.test(df)\n",
    "chi.square"
   ]
  },
  {
   "cell_type": "markdown",
   "metadata": {},
   "source": [
    "Significance obtained, so association between buyer type and buyer found.\n",
    "Tables for Observed and Expected counts found below."
   ]
  },
  {
   "cell_type": "code",
   "execution_count": 13,
   "metadata": {},
   "outputs": [
    {
     "data": {
      "text/html": [
       "<table>\n",
       "<caption>A matrix: 4 × 4 of type int</caption>\n",
       "<thead>\n",
       "\t<tr><th></th><th scope=col>Flat</th><th scope=col>Bungalow</th><th scope=col>Detached.house</th><th scope=col>Terrace</th></tr>\n",
       "</thead>\n",
       "<tbody>\n",
       "\t<tr><th scope=row>Single Male</th><td>40</td><td> 4</td><td> 8</td><td>16</td></tr>\n",
       "\t<tr><th scope=row>Single Female</th><td>30</td><td> 4</td><td>16</td><td> 7</td></tr>\n",
       "\t<tr><th scope=row>Married Couple</th><td>16</td><td>14</td><td>26</td><td>45</td></tr>\n",
       "\t<tr><th scope=row>Family</th><td>10</td><td>16</td><td>42</td><td>39</td></tr>\n",
       "</tbody>\n",
       "</table>\n"
      ],
      "text/latex": [
       "A matrix: 4 × 4 of type int\n",
       "\\begin{tabular}{r|llll}\n",
       "  & Flat & Bungalow & Detached.house & Terrace\\\\\n",
       "\\hline\n",
       "\tSingle Male & 40 &  4 &  8 & 16\\\\\n",
       "\tSingle Female & 30 &  4 & 16 &  7\\\\\n",
       "\tMarried Couple & 16 & 14 & 26 & 45\\\\\n",
       "\tFamily & 10 & 16 & 42 & 39\\\\\n",
       "\\end{tabular}\n"
      ],
      "text/markdown": [
       "\n",
       "A matrix: 4 × 4 of type int\n",
       "\n",
       "| <!--/--> | Flat | Bungalow | Detached.house | Terrace |\n",
       "|---|---|---|---|---|\n",
       "| Single Male | 40 |  4 |  8 | 16 |\n",
       "| Single Female | 30 |  4 | 16 |  7 |\n",
       "| Married Couple | 16 | 14 | 26 | 45 |\n",
       "| Family | 10 | 16 | 42 | 39 |\n",
       "\n"
      ],
      "text/plain": [
       "               Flat Bungalow Detached.house Terrace\n",
       "Single Male    40    4        8             16     \n",
       "Single Female  30    4       16              7     \n",
       "Married Couple 16   14       26             45     \n",
       "Family         10   16       42             39     "
      ]
     },
     "metadata": {},
     "output_type": "display_data"
    }
   ],
   "source": [
    "chi.square$observed"
   ]
  },
  {
   "cell_type": "code",
   "execution_count": 14,
   "metadata": {},
   "outputs": [
    {
     "data": {
      "text/html": [
       "<table>\n",
       "<caption>A matrix: 4 × 4 of type dbl</caption>\n",
       "<thead>\n",
       "\t<tr><th></th><th scope=col>Flat</th><th scope=col>Bungalow</th><th scope=col>Detached.house</th><th scope=col>Terrace</th></tr>\n",
       "</thead>\n",
       "<tbody>\n",
       "\t<tr><th scope=row>Single Male</th><td>19.60</td><td> 7.76</td><td>18.79</td><td>21.85</td></tr>\n",
       "\t<tr><th scope=row>Single Female</th><td>16.43</td><td> 6.50</td><td>15.75</td><td>18.32</td></tr>\n",
       "\t<tr><th scope=row>Married Couple</th><td>29.12</td><td>11.53</td><td>27.90</td><td>32.45</td></tr>\n",
       "\t<tr><th scope=row>Family</th><td>30.85</td><td>12.21</td><td>29.56</td><td>34.38</td></tr>\n",
       "</tbody>\n",
       "</table>\n"
      ],
      "text/latex": [
       "A matrix: 4 × 4 of type dbl\n",
       "\\begin{tabular}{r|llll}\n",
       "  & Flat & Bungalow & Detached.house & Terrace\\\\\n",
       "\\hline\n",
       "\tSingle Male & 19.60 &  7.76 & 18.79 & 21.85\\\\\n",
       "\tSingle Female & 16.43 &  6.50 & 15.75 & 18.32\\\\\n",
       "\tMarried Couple & 29.12 & 11.53 & 27.90 & 32.45\\\\\n",
       "\tFamily & 30.85 & 12.21 & 29.56 & 34.38\\\\\n",
       "\\end{tabular}\n"
      ],
      "text/markdown": [
       "\n",
       "A matrix: 4 × 4 of type dbl\n",
       "\n",
       "| <!--/--> | Flat | Bungalow | Detached.house | Terrace |\n",
       "|---|---|---|---|---|\n",
       "| Single Male | 19.60 |  7.76 | 18.79 | 21.85 |\n",
       "| Single Female | 16.43 |  6.50 | 15.75 | 18.32 |\n",
       "| Married Couple | 29.12 | 11.53 | 27.90 | 32.45 |\n",
       "| Family | 30.85 | 12.21 | 29.56 | 34.38 |\n",
       "\n"
      ],
      "text/plain": [
       "               Flat  Bungalow Detached.house Terrace\n",
       "Single Male    19.60  7.76    18.79          21.85  \n",
       "Single Female  16.43  6.50    15.75          18.32  \n",
       "Married Couple 29.12 11.53    27.90          32.45  \n",
       "Family         30.85 12.21    29.56          34.38  "
      ]
     },
     "metadata": {},
     "output_type": "display_data"
    }
   ],
   "source": [
    "round(chi.square$expected,2)"
   ]
  },
  {
   "cell_type": "markdown",
   "metadata": {},
   "source": [
    "Residuals of 2-3 demonstrate significance. Residuals table found below. "
   ]
  },
  {
   "cell_type": "code",
   "execution_count": 15,
   "metadata": {},
   "outputs": [
    {
     "data": {
      "text/html": [
       "<table>\n",
       "<caption>A matrix: 4 × 4 of type dbl</caption>\n",
       "<thead>\n",
       "\t<tr><th></th><th scope=col>Flat</th><th scope=col>Bungalow</th><th scope=col>Detached.house</th><th scope=col>Terrace</th></tr>\n",
       "</thead>\n",
       "<tbody>\n",
       "\t<tr><th scope=row>Single Male</th><td> 4.61</td><td>-1.35</td><td>-2.49</td><td>-1.25</td></tr>\n",
       "\t<tr><th scope=row>Single Female</th><td> 3.35</td><td>-0.98</td><td> 0.06</td><td>-2.64</td></tr>\n",
       "\t<tr><th scope=row>Married Couple</th><td>-2.43</td><td> 0.73</td><td>-0.36</td><td> 2.20</td></tr>\n",
       "\t<tr><th scope=row>Family</th><td>-3.75</td><td> 1.08</td><td> 2.29</td><td> 0.79</td></tr>\n",
       "</tbody>\n",
       "</table>\n"
      ],
      "text/latex": [
       "A matrix: 4 × 4 of type dbl\n",
       "\\begin{tabular}{r|llll}\n",
       "  & Flat & Bungalow & Detached.house & Terrace\\\\\n",
       "\\hline\n",
       "\tSingle Male &  4.61 & -1.35 & -2.49 & -1.25\\\\\n",
       "\tSingle Female &  3.35 & -0.98 &  0.06 & -2.64\\\\\n",
       "\tMarried Couple & -2.43 &  0.73 & -0.36 &  2.20\\\\\n",
       "\tFamily & -3.75 &  1.08 &  2.29 &  0.79\\\\\n",
       "\\end{tabular}\n"
      ],
      "text/markdown": [
       "\n",
       "A matrix: 4 × 4 of type dbl\n",
       "\n",
       "| <!--/--> | Flat | Bungalow | Detached.house | Terrace |\n",
       "|---|---|---|---|---|\n",
       "| Single Male |  4.61 | -1.35 | -2.49 | -1.25 |\n",
       "| Single Female |  3.35 | -0.98 |  0.06 | -2.64 |\n",
       "| Married Couple | -2.43 |  0.73 | -0.36 |  2.20 |\n",
       "| Family | -3.75 |  1.08 |  2.29 |  0.79 |\n",
       "\n"
      ],
      "text/plain": [
       "               Flat  Bungalow Detached.house Terrace\n",
       "Single Male     4.61 -1.35    -2.49          -1.25  \n",
       "Single Female   3.35 -0.98     0.06          -2.64  \n",
       "Married Couple -2.43  0.73    -0.36           2.20  \n",
       "Family         -3.75  1.08     2.29           0.79  "
      ]
     },
     "metadata": {},
     "output_type": "display_data"
    }
   ],
   "source": [
    "round(chi.square$residuals,2)"
   ]
  },
  {
   "cell_type": "markdown",
   "metadata": {},
   "source": [
    "Cramers V shows a medium strength of association. "
   ]
  },
  {
   "cell_type": "code",
   "execution_count": 19,
   "metadata": {},
   "outputs": [
    {
     "data": {
      "text/html": [
       "0.287378229969747"
      ],
      "text/latex": [
       "0.287378229969747"
      ],
      "text/markdown": [
       "0.287378229969747"
      ],
      "text/plain": [
       "[1] 0.2873782"
      ]
     },
     "metadata": {},
     "output_type": "display_data"
    }
   ],
   "source": [
    "cramersV(df)"
   ]
  }
 ],
 "metadata": {
  "kernelspec": {
   "display_name": "R",
   "language": "R",
   "name": "ir"
  },
  "language_info": {
   "codemirror_mode": "r",
   "file_extension": ".r",
   "mimetype": "text/x-r-source",
   "name": "R",
   "pygments_lexer": "r",
   "version": "3.6.1"
  }
 },
 "nbformat": 4,
 "nbformat_minor": 2
}
