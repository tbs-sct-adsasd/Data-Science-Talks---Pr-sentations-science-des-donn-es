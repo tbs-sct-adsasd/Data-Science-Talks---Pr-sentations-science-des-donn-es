{
 "cells": [
  {
   "cell_type": "code",
   "execution_count": 1,
   "metadata": {},
   "outputs": [],
   "source": [
    "list.of.packages <- c(\"ggplot2\", \"readr\", \"stringr\", \"magrittr\", \"logging\")\n",
    "new.packages <- list.of.packages[!(list.of.packages %in% installed.packages()[,\"Package\"])]\n",
    "\n",
    "# Install missing packages if any\n",
    "if(length(new.packages) > 0) {\n",
    "    install.packages(new.packages)\n",
    "}\n",
    "\n",
    "# Load packages\n",
    "for(pkg in list.of.packages){\n",
    "    library(pkg, character.only=TRUE)\n",
    "}\n",
    "\n",
    "# Make plots pretty\n",
    "theme_set(theme_bw())"
   ]
  },
  {
   "cell_type": "markdown",
   "metadata": {},
   "source": [
    "# Data Standardization"
   ]
  },
  {
   "cell_type": "markdown",
   "metadata": {},
   "source": [
    "Let's use a random dataset in order to put in practice some of the data standardization techniques."
   ]
  },
  {
   "cell_type": "code",
   "execution_count": 2,
   "metadata": {},
   "outputs": [
    {
     "name": "stderr",
     "output_type": "stream",
     "text": [
      "Warning message in eval(expr, envir, enclos):\n",
      "\"NAs introduced by coercion\""
     ]
    },
    {
     "data": {
      "text/plain": [
       "    Ref_Date                       Urban.Centre Preliminary.Housing.Starts\n",
       " 10-Nov :  10   Calgary (CMA)            :151   Min.   :   1.0            \n",
       " 07-Apr :   9   Edmonton (CMA)           :151   1st Qu.:  36.0            \n",
       " 07-Aug :   9   Grande Prairie (CA)      :151   Median : 101.0            \n",
       " 07-Dec :   9   Medicine Hat (CA)        :151   Mean   : 508.4            \n",
       " 07-Feb :   9   Red Deer (CA)            :151   3rd Qu.: 789.0            \n",
       " 07-Jan :   9   Seven Major Urban Centres:151   Max.   :4169.0            \n",
       " (Other):1304   (Other)                  :453   NA's   :6                 "
      ]
     },
     "metadata": {},
     "output_type": "display_data"
    },
    {
     "data": {
      "text/html": [
       "<table>\n",
       "<thead><tr><th scope=col>Ref_Date</th><th scope=col>Urban.Centre</th><th scope=col>Preliminary.Housing.Starts</th></tr></thead>\n",
       "<tbody>\n",
       "\t<tr><td>07-Jan           </td><td>Calgary (CMA)    </td><td> 800             </td></tr>\n",
       "\t<tr><td>07-Jan           </td><td>Edmonton (CMA)   </td><td>1145             </td></tr>\n",
       "\t<tr><td>07-Jan           </td><td>Red Deer (CA)    </td><td> 211             </td></tr>\n",
       "\t<tr><td>07-Jan           </td><td>Lethbridge (CA)  </td><td>  71             </td></tr>\n",
       "\t<tr><td>07-Jan           </td><td>Medicine Hat (CA)</td><td>  59             </td></tr>\n",
       "\t<tr><td>07-Jan           </td><td>Wood Buffalo (CA)</td><td> 361             </td></tr>\n",
       "</tbody>\n",
       "</table>\n"
      ],
      "text/latex": [
       "\\begin{tabular}{r|lll}\n",
       " Ref\\_Date & Urban.Centre & Preliminary.Housing.Starts\\\\\n",
       "\\hline\n",
       "\t 07-Jan            & Calgary (CMA)     &  800             \\\\\n",
       "\t 07-Jan            & Edmonton (CMA)    & 1145             \\\\\n",
       "\t 07-Jan            & Red Deer (CA)     &  211             \\\\\n",
       "\t 07-Jan            & Lethbridge (CA)   &   71             \\\\\n",
       "\t 07-Jan            & Medicine Hat (CA) &   59             \\\\\n",
       "\t 07-Jan            & Wood Buffalo (CA) &  361             \\\\\n",
       "\\end{tabular}\n"
      ],
      "text/markdown": [
       "\n",
       "Ref_Date | Urban.Centre | Preliminary.Housing.Starts | \n",
       "|---|---|---|---|---|---|\n",
       "| 07-Jan            | Calgary (CMA)     |  800              | \n",
       "| 07-Jan            | Edmonton (CMA)    | 1145              | \n",
       "| 07-Jan            | Red Deer (CA)     |  211              | \n",
       "| 07-Jan            | Lethbridge (CA)   |   71              | \n",
       "| 07-Jan            | Medicine Hat (CA) |   59              | \n",
       "| 07-Jan            | Wood Buffalo (CA) |  361              | \n",
       "\n",
       "\n"
      ],
      "text/plain": [
       "  Ref_Date Urban.Centre      Preliminary.Housing.Starts\n",
       "1 07-Jan   Calgary (CMA)      800                      \n",
       "2 07-Jan   Edmonton (CMA)    1145                      \n",
       "3 07-Jan   Red Deer (CA)      211                      \n",
       "4 07-Jan   Lethbridge (CA)     71                      \n",
       "5 07-Jan   Medicine Hat (CA)   59                      \n",
       "6 07-Jan   Wood Buffalo (CA)  361                      "
      ]
     },
     "metadata": {},
     "output_type": "display_data"
    }
   ],
   "source": [
    "URL_ALBERTA = 'https://open.alberta.ca/dataset/a4b99aad-3f33-45ea-a5c7-e34a4733d336/resource/8e5d4548-fe1a-4f36-a690-3da56af197e6/download/cmhc_preliminary_total_housing_starts_csv_v83.0_2019-08-09.csv'\n",
    "INTERESTING_COLUMNS = c('Ref_Date', 'Urban.Centre', 'Preliminary.Housing.Starts')\n",
    "\n",
    "# Read in the DataFrame and use only specified columns\n",
    "df_alberta <- read.csv(URL_ALBERTA)[, INTERESTING_COLUMNS]\n",
    "\n",
    "# Fix the 'housing' column so that all rows contain integers\n",
    "df_alberta$Preliminary.Housing.Starts <- as.numeric(as.character(df_alberta$Preliminary.Housing.Starts))\n",
    "# df_alberta['Preliminary Housing Starts'] = df_alberta['Preliminary Housing Starts'].apply(cast_to_int)\n",
    "\n",
    "# Print the dataframe details and first 5 rows\n",
    "summary(df_alberta)\n",
    "head(df_alberta)"
   ]
  },
  {
   "cell_type": "markdown",
   "metadata": {},
   "source": [
    "## Inconsistent Coding\n",
    "In this example, let's take a look at the values for the `Urban Centre` attribute:"
   ]
  },
  {
   "cell_type": "code",
   "execution_count": 3,
   "metadata": {},
   "outputs": [
    {
     "name": "stdout",
     "output_type": "stream",
     "text": [
      "[1] \"The unique values for cities are:\"\n",
      " [1] Calgary (CMA)             Edmonton (CMA)           \n",
      " [3] Red Deer (CA)             Lethbridge (CA)          \n",
      " [5] Medicine Hat (CA)         Wood Buffalo (CA)        \n",
      " [7] Grande Prairie (CA)       Five CAs                 \n",
      " [9] Seven Major Urban Centres Lethbridge (CMA)         \n",
      "[11] Four CAs                 \n",
      "11 Levels: Calgary (CMA) Edmonton (CMA) Five CAs ... Wood Buffalo (CA)\n"
     ]
    }
   ],
   "source": [
    "print('The unique values for cities are:')\n",
    "print(unique(unlist(df_alberta['Urban.Centre'])))"
   ]
  },
  {
   "cell_type": "markdown",
   "metadata": {},
   "source": [
    "Now, *I don't know anything about Alberta urban centres*, so take everything here with a grain of salt.\n",
    "\n",
    "But let's standardize this so that we have values that \"mean something\". We'll:\n",
    "1. Rename the codes so they don't have the `(CMA)` and `(CA)` suffixes\n",
    "2. Remove the rows for the aggregate values `'Five CAs'`, `'Seven Major Urban Centres'`, and `'Four CAs'`"
   ]
  },
  {
   "cell_type": "markdown",
   "metadata": {},
   "source": [
    "### Rename codes\n",
    "Here we use the [pandas string replace method](http://github.com/pandas-dev/pandas/blob/v0.25.0/pandas/core/strings.py#L2709-L2715) to detect the unwanted patterns and replace them with an empty string, `''`."
   ]
  },
  {
   "cell_type": "code",
   "execution_count": 4,
   "metadata": {},
   "outputs": [
    {
     "name": "stdout",
     "output_type": "stream",
     "text": [
      "[1] \"The unique values for cities are:\"\n",
      " [1] \"Calgary\"                   \"Edmonton\"                 \n",
      " [3] \"Red Deer\"                  \"Lethbridge\"               \n",
      " [5] \"Medicine Hat\"              \"Wood Buffalo\"             \n",
      " [7] \"Grande Prairie\"            \"Five CAs\"                 \n",
      " [9] \"Seven Major Urban Centres\" \"Four CAs\"                 \n"
     ]
    }
   ],
   "source": [
    "# Rename Urban Centre suffixes\n",
    "\n",
    "suffixes = c(' \\\\(CMA\\\\)', ' \\\\(CA\\\\)')  # Escape parentheses with double backslashes\n",
    "\n",
    "# Loop through the possible suffix values\n",
    "for(suffix in suffixes){\n",
    "#     unlist(df$Urban.Centre) %>% \n",
    "#         str_replace_all(unlist(df$Urban.Centre), suffix, \"\")\n",
    "    df_alberta$Urban.Centre <- gsub(suffix, \"\", df_alberta$Urban.Centre)\n",
    "}\n",
    "\n",
    "print('The unique values for cities are:')\n",
    "print(unique(unlist(df_alberta['Urban.Centre'])))"
   ]
  },
  {
   "cell_type": "code",
   "execution_count": 5,
   "metadata": {},
   "outputs": [
    {
     "name": "stdout",
     "output_type": "stream",
     "text": [
      "[1] \"The unique values for cities are:\"\n",
      "[1] \"Calgary\"        \"Edmonton\"       \"Red Deer\"       \"Lethbridge\"    \n",
      "[5] \"Medicine Hat\"   \"Wood Buffalo\"   \"Grande Prairie\"\n"
     ]
    }
   ],
   "source": [
    "# Remove the aggregate rows\n",
    "\n",
    "aggregate_values = 'Five CAs|Seven Major Urban Centres|Four CAs'\n",
    "\n",
    "# Overwrite the DataFrame only with the rows not in the aggregate rwos\n",
    "# filter_all(grepl(aggregate_values, df_alberta$Urban.Centre))\n",
    "df_alberta <- dplyr::filter(df_alberta, !grepl(aggregate_values, Urban.Centre))\n",
    "\n",
    "# Show the difference\n",
    "print('The unique values for cities are:')\n",
    "print(unique(unlist(df_alberta['Urban.Centre'])))"
   ]
  },
  {
   "cell_type": "markdown",
   "metadata": {},
   "source": [
    "Now let's take a look at the first few entries again!"
   ]
  },
  {
   "cell_type": "code",
   "execution_count": 6,
   "metadata": {},
   "outputs": [
    {
     "data": {
      "text/html": [
       "<table>\n",
       "<thead><tr><th scope=col>Ref_Date</th><th scope=col>Urban.Centre</th><th scope=col>Preliminary.Housing.Starts</th></tr></thead>\n",
       "<tbody>\n",
       "\t<tr><td>07-Jan      </td><td>Calgary     </td><td> 800        </td></tr>\n",
       "\t<tr><td>07-Jan      </td><td>Edmonton    </td><td>1145        </td></tr>\n",
       "\t<tr><td>07-Jan      </td><td>Red Deer    </td><td> 211        </td></tr>\n",
       "\t<tr><td>07-Jan      </td><td>Lethbridge  </td><td>  71        </td></tr>\n",
       "\t<tr><td>07-Jan      </td><td>Medicine Hat</td><td>  59        </td></tr>\n",
       "\t<tr><td>07-Jan      </td><td>Wood Buffalo</td><td> 361        </td></tr>\n",
       "</tbody>\n",
       "</table>\n"
      ],
      "text/latex": [
       "\\begin{tabular}{r|lll}\n",
       " Ref\\_Date & Urban.Centre & Preliminary.Housing.Starts\\\\\n",
       "\\hline\n",
       "\t 07-Jan       & Calgary      &  800        \\\\\n",
       "\t 07-Jan       & Edmonton     & 1145        \\\\\n",
       "\t 07-Jan       & Red Deer     &  211        \\\\\n",
       "\t 07-Jan       & Lethbridge   &   71        \\\\\n",
       "\t 07-Jan       & Medicine Hat &   59        \\\\\n",
       "\t 07-Jan       & Wood Buffalo &  361        \\\\\n",
       "\\end{tabular}\n"
      ],
      "text/markdown": [
       "\n",
       "Ref_Date | Urban.Centre | Preliminary.Housing.Starts | \n",
       "|---|---|---|---|---|---|\n",
       "| 07-Jan       | Calgary      |  800         | \n",
       "| 07-Jan       | Edmonton     | 1145         | \n",
       "| 07-Jan       | Red Deer     |  211         | \n",
       "| 07-Jan       | Lethbridge   |   71         | \n",
       "| 07-Jan       | Medicine Hat |   59         | \n",
       "| 07-Jan       | Wood Buffalo |  361         | \n",
       "\n",
       "\n"
      ],
      "text/plain": [
       "  Ref_Date Urban.Centre Preliminary.Housing.Starts\n",
       "1 07-Jan   Calgary       800                      \n",
       "2 07-Jan   Edmonton     1145                      \n",
       "3 07-Jan   Red Deer      211                      \n",
       "4 07-Jan   Lethbridge     71                      \n",
       "5 07-Jan   Medicine Hat   59                      \n",
       "6 07-Jan   Wood Buffalo  361                      "
      ]
     },
     "metadata": {},
     "output_type": "display_data"
    }
   ],
   "source": [
    "head(df_alberta)"
   ]
  },
  {
   "cell_type": "code",
   "execution_count": 7,
   "metadata": {},
   "outputs": [
    {
     "data": {
      "image/png": "[encoded data removed]",
      "text/plain": [
       "plot without title"
      ]
     },
     "metadata": {},
     "output_type": "display_data"
    }
   ],
   "source": [
    "ggplot(data=df_alberta,\n",
    "       aes(x = Ref_Date,\n",
    "           y = Preliminary.Housing.Starts,\n",
    "           colour = Urban.Centre,\n",
    "           group=Urban.Centre)) +\n",
    "    ggtitle(\"Preliminary Housing Starts by Urban Centre in Alberta (2019)\") +\n",
    "    geom_line() +\n",
    "    scale_y_continuous(trans = 'log2')"
   ]
  },
  {
   "cell_type": "markdown",
   "metadata": {},
   "source": [
    "Much better!"
   ]
  },
  {
   "cell_type": "markdown",
   "metadata": {},
   "source": [
    "## Invalid Values"
   ]
  },
  {
   "cell_type": "markdown",
   "metadata": {},
   "source": [
    "Here we'll use a mock dataset in order to illustrate some points.\n",
    "\n",
    "For the sake of argument, let's imagine that in our use case, invalid values that go through our data processinng pipeline will break downstream applications &mdash; say, a dashboard that's refreshed every time new data comes in."
   ]
  },
  {
   "cell_type": "code",
   "execution_count": 8,
   "metadata": {},
   "outputs": [
    {
     "data": {
      "text/html": [
       "<table>\n",
       "<thead><tr><th scope=col>id</th><th scope=col>group</th><th scope=col>location</th><th scope=col>sales</th></tr></thead>\n",
       "<tbody>\n",
       "\t<tr><td>1        </td><td>A        </td><td>Ottawa   </td><td>28       </td></tr>\n",
       "\t<tr><td>2        </td><td>A        </td><td>Montréal </td><td>21       </td></tr>\n",
       "\t<tr><td>3        </td><td>B        </td><td>Ottawa   </td><td>43       </td></tr>\n",
       "\t<tr><td>4        </td><td>B        </td><td>Red Deer </td><td>71       </td></tr>\n",
       "\t<tr><td>5        </td><td>Z        </td><td>Ottawa   </td><td>34       </td></tr>\n",
       "\t<tr><td>6        </td><td>A        </td><td>unknown  </td><td>11       </td></tr>\n",
       "\t<tr><td>7        </td><td>B        </td><td>Toronto  </td><td>13       </td></tr>\n",
       "\t<tr><td>8        </td><td>A        </td><td>Ottawa   </td><td>85       </td></tr>\n",
       "\t<tr><td>9        </td><td>B        </td><td>Vancouver</td><td>50       </td></tr>\n",
       "</tbody>\n",
       "</table>\n"
      ],
      "text/latex": [
       "\\begin{tabular}{r|llll}\n",
       " id & group & location & sales\\\\\n",
       "\\hline\n",
       "\t 1         & A         & Ottawa    & 28       \\\\\n",
       "\t 2         & A         & Montréal  & 21       \\\\\n",
       "\t 3         & B         & Ottawa    & 43       \\\\\n",
       "\t 4         & B         & Red Deer  & 71       \\\\\n",
       "\t 5         & Z         & Ottawa    & 34       \\\\\n",
       "\t 6         & A         & unknown   & 11       \\\\\n",
       "\t 7         & B         & Toronto   & 13       \\\\\n",
       "\t 8         & A         & Ottawa    & 85       \\\\\n",
       "\t 9         & B         & Vancouver & 50       \\\\\n",
       "\\end{tabular}\n"
      ],
      "text/markdown": [
       "\n",
       "id | group | location | sales | \n",
       "|---|---|---|---|---|---|---|---|---|\n",
       "| 1         | A         | Ottawa    | 28        | \n",
       "| 2         | A         | Montréal  | 21        | \n",
       "| 3         | B         | Ottawa    | 43        | \n",
       "| 4         | B         | Red Deer  | 71        | \n",
       "| 5         | Z         | Ottawa    | 34        | \n",
       "| 6         | A         | unknown   | 11        | \n",
       "| 7         | B         | Toronto   | 13        | \n",
       "| 8         | A         | Ottawa    | 85        | \n",
       "| 9         | B         | Vancouver | 50        | \n",
       "\n",
       "\n"
      ],
      "text/plain": [
       "  id group location  sales\n",
       "1 1  A     Ottawa    28   \n",
       "2 2  A     Montréal  21   \n",
       "3 3  B     Ottawa    43   \n",
       "4 4  B     Red Deer  71   \n",
       "5 5  Z     Ottawa    34   \n",
       "6 6  A     unknown   11   \n",
       "7 7  B     Toronto   13   \n",
       "8 8  A     Ottawa    85   \n",
       "9 9  B     Vancouver 50   "
      ]
     },
     "metadata": {},
     "output_type": "display_data"
    }
   ],
   "source": [
    "N <- 9\n",
    "df_invalid <- structure(list(\n",
    "             id = 1:N,\n",
    "             group = c('A', 'A', 'B', 'B', 'Z', 'A', 'B', 'A', 'B'),\n",
    "             location = c('Ottawa', 'Montréal', 'Ottawa', 'Red Deer', 'Ottawa', 'unknown', 'Toronto', 'Ottawa', 'Vancouver'),\n",
    "             sales = c(sample(1:100, N))\n",
    "),\n",
    "                 .Names = c(\"id\", \"group\", \"location\", 'sales'),\n",
    "                 class = \"data.frame\", \n",
    "                 row.names = c(NA, -N))\n",
    "\n",
    "df_invalid"
   ]
  },
  {
   "cell_type": "markdown",
   "metadata": {},
   "source": [
    "Let's assume here that the values `Z` for the group and `unknown` for the location are invalid.\n",
    "\n",
    "There are two ways to handle this:\n",
    "1. A list of valid values (whitelist)\n",
    "2. A list of invalid values (blacklist)\n",
    "\n",
    "And there are two notable ways of handling them:\n",
    "1. We log the error but keep the pipeline going, using some fallback value\n",
    "2. We error out the pipeline, and wait for human intervention to fix the offending data\n",
    "\n",
    "All permutations of these have valid use cases, and depend on the situation."
   ]
  },
  {
   "cell_type": "markdown",
   "metadata": {},
   "source": [
    "### Strategy \\#1: Whitelist and error out\n",
    "This strategy is good standard practice, but assumes there are (timely) processes in place to correct the data at the source."
   ]
  },
  {
   "cell_type": "code",
   "execution_count": 9,
   "metadata": {},
   "outputs": [
    {
     "ename": "ERROR",
     "evalue": "Error in eval(expr, envir, enclos): Some invalid values were detected for column \"group\". Aborting pipeline.\n",
     "output_type": "error",
     "traceback": [
      "Error in eval(expr, envir, enclos): Some invalid values were detected for column \"group\". Aborting pipeline.\nTraceback:\n",
      "1. stop(INVALID_GROUP_ERROR)   # at line 9 of file <text>"
     ]
    }
   ],
   "source": [
    "VALID_GROUPS = 'A|B'\n",
    "INVALID_GROUP_ERROR = 'Some invalid values were detected for column \"group\". Aborting pipeline.'\n",
    "\n",
    "# Whitelist the group values, error out if invalid value is detected\n",
    "invalid_group_values <- !grepl(VALID_GROUPS, df_invalid$group)\n",
    "\n",
    "# Sum of invalid strings should be zero\n",
    "if(sum(invalid_group_values) > 0){\n",
    "   stop(INVALID_GROUP_ERROR)\n",
    "}"
   ]
  },
  {
   "cell_type": "markdown",
   "metadata": {},
   "source": [
    "### Strategy \\#2: Blacklist and log occurences\n",
    "We can also simply log the invalid data and use a fallback value instead. In this case, we can simply log the occurence."
   ]
  },
  {
   "cell_type": "code",
   "execution_count": 10,
   "metadata": {},
   "outputs": [
    {
     "name": "stdout",
     "output_type": "stream",
     "text": [
      "2019-08-21 20:19:39 WARNING::Invalid location value at index 6: \"unknown\". Replacing with missing value.\n"
     ]
    },
    {
     "data": {
      "text/html": [
       "<table>\n",
       "<thead><tr><th scope=col>id</th><th scope=col>group</th><th scope=col>location</th><th scope=col>sales</th></tr></thead>\n",
       "<tbody>\n",
       "\t<tr><td>1        </td><td>A        </td><td>Ottawa   </td><td>28       </td></tr>\n",
       "\t<tr><td>2        </td><td>A        </td><td>Montréal </td><td>21       </td></tr>\n",
       "\t<tr><td>3        </td><td>B        </td><td>Ottawa   </td><td>43       </td></tr>\n",
       "\t<tr><td>4        </td><td>B        </td><td>Red Deer </td><td>71       </td></tr>\n",
       "\t<tr><td>5        </td><td>Z        </td><td>Ottawa   </td><td>34       </td></tr>\n",
       "\t<tr><td>6        </td><td>A        </td><td>NA       </td><td>11       </td></tr>\n",
       "\t<tr><td>7        </td><td>B        </td><td>Toronto  </td><td>13       </td></tr>\n",
       "\t<tr><td>8        </td><td>A        </td><td>Ottawa   </td><td>85       </td></tr>\n",
       "\t<tr><td>9        </td><td>B        </td><td>Vancouver</td><td>50       </td></tr>\n",
       "</tbody>\n",
       "</table>\n"
      ],
      "text/latex": [
       "\\begin{tabular}{r|llll}\n",
       " id & group & location & sales\\\\\n",
       "\\hline\n",
       "\t 1         & A         & Ottawa    & 28       \\\\\n",
       "\t 2         & A         & Montréal  & 21       \\\\\n",
       "\t 3         & B         & Ottawa    & 43       \\\\\n",
       "\t 4         & B         & Red Deer  & 71       \\\\\n",
       "\t 5         & Z         & Ottawa    & 34       \\\\\n",
       "\t 6         & A         & NA        & 11       \\\\\n",
       "\t 7         & B         & Toronto   & 13       \\\\\n",
       "\t 8         & A         & Ottawa    & 85       \\\\\n",
       "\t 9         & B         & Vancouver & 50       \\\\\n",
       "\\end{tabular}\n"
      ],
      "text/markdown": [
       "\n",
       "id | group | location | sales | \n",
       "|---|---|---|---|---|---|---|---|---|\n",
       "| 1         | A         | Ottawa    | 28        | \n",
       "| 2         | A         | Montréal  | 21        | \n",
       "| 3         | B         | Ottawa    | 43        | \n",
       "| 4         | B         | Red Deer  | 71        | \n",
       "| 5         | Z         | Ottawa    | 34        | \n",
       "| 6         | A         | NA        | 11        | \n",
       "| 7         | B         | Toronto   | 13        | \n",
       "| 8         | A         | Ottawa    | 85        | \n",
       "| 9         | B         | Vancouver | 50        | \n",
       "\n",
       "\n"
      ],
      "text/plain": [
       "  id group location  sales\n",
       "1 1  A     Ottawa    28   \n",
       "2 2  A     Montréal  21   \n",
       "3 3  B     Ottawa    43   \n",
       "4 4  B     Red Deer  71   \n",
       "5 5  Z     Ottawa    34   \n",
       "6 6  A     NA        11   \n",
       "7 7  B     Toronto   13   \n",
       "8 8  A     Ottawa    85   \n",
       "9 9  B     Vancouver 50   "
      ]
     },
     "metadata": {},
     "output_type": "display_data"
    }
   ],
   "source": [
    "# Create a logging object, which we'll use to monitor our data pipeline\n",
    "Sys.setenv(TZ = \"UTC\")  # To suppress timezone warning\n",
    "logging::basicConfig()\n",
    "\n",
    "INVALID_LOCATIONS = c('unknown', 'NA', 'N/A', ' ', '')\n",
    "\n",
    "invalid_rows <- apply(df_invalid, 1, function(r) any(r %in% INVALID_LOCATIONS))\n",
    "\n",
    "for (ix in seq_along(invalid_rows)) {\n",
    "    row <- invalid_rows[ix]\n",
    "    if (row) {\n",
    "        logwarn(paste('Invalid location value at index ', ix, ': \"', df_invalid$location[ix], '\". Replacing with missing value.', sep=''))\n",
    "        df_invalid$location[ix] <- NA\n",
    "    }\n",
    "}\n",
    "\n",
    "df_invalid"
   ]
  },
  {
   "cell_type": "markdown",
   "metadata": {},
   "source": [
    "## Numeric Values\n",
    "For the following sections, we'll use a real-world example. Each row represents a house in California sold on the market, with each attribute representing either characteristics of the neighbourhood, or the house itself."
   ]
  },
  {
   "cell_type": "code",
   "execution_count": 11,
   "metadata": {},
   "outputs": [
    {
     "data": {
      "text/html": [
       "<table>\n",
       "<thead><tr><th scope=col>longitude</th><th scope=col>latitude</th><th scope=col>housing_median_age</th><th scope=col>total_rooms</th><th scope=col>total_bedrooms</th><th scope=col>population</th><th scope=col>households</th><th scope=col>median_income</th><th scope=col>median_house_value</th></tr></thead>\n",
       "<tbody>\n",
       "\t<tr><td>-114.31</td><td>34.19  </td><td>15     </td><td>5612   </td><td>1283   </td><td>1015   </td><td>472    </td><td>1.4936 </td><td>66900  </td></tr>\n",
       "\t<tr><td>-114.47</td><td>34.40  </td><td>19     </td><td>7650   </td><td>1901   </td><td>1129   </td><td>463    </td><td>1.8200 </td><td>80100  </td></tr>\n",
       "\t<tr><td>-114.56</td><td>33.69  </td><td>17     </td><td> 720   </td><td> 174   </td><td> 333   </td><td>117    </td><td>1.6509 </td><td>85700  </td></tr>\n",
       "\t<tr><td>-114.57</td><td>33.64  </td><td>14     </td><td>1501   </td><td> 337   </td><td> 515   </td><td>226    </td><td>3.1917 </td><td>73400  </td></tr>\n",
       "\t<tr><td>-114.57</td><td>33.57  </td><td>20     </td><td>1454   </td><td> 326   </td><td> 624   </td><td>262    </td><td>1.9250 </td><td>65500  </td></tr>\n",
       "\t<tr><td>-114.58</td><td>33.63  </td><td>29     </td><td>1387   </td><td> 236   </td><td> 671   </td><td>239    </td><td>3.3438 </td><td>74000  </td></tr>\n",
       "</tbody>\n",
       "</table>\n"
      ],
      "text/latex": [
       "\\begin{tabular}{r|lllllllll}\n",
       " longitude & latitude & housing\\_median\\_age & total\\_rooms & total\\_bedrooms & population & households & median\\_income & median\\_house\\_value\\\\\n",
       "\\hline\n",
       "\t -114.31 & 34.19   & 15      & 5612    & 1283    & 1015    & 472     & 1.4936  & 66900  \\\\\n",
       "\t -114.47 & 34.40   & 19      & 7650    & 1901    & 1129    & 463     & 1.8200  & 80100  \\\\\n",
       "\t -114.56 & 33.69   & 17      &  720    &  174    &  333    & 117     & 1.6509  & 85700  \\\\\n",
       "\t -114.57 & 33.64   & 14      & 1501    &  337    &  515    & 226     & 3.1917  & 73400  \\\\\n",
       "\t -114.57 & 33.57   & 20      & 1454    &  326    &  624    & 262     & 1.9250  & 65500  \\\\\n",
       "\t -114.58 & 33.63   & 29      & 1387    &  236    &  671    & 239     & 3.3438  & 74000  \\\\\n",
       "\\end{tabular}\n"
      ],
      "text/markdown": [
       "\n",
       "longitude | latitude | housing_median_age | total_rooms | total_bedrooms | population | households | median_income | median_house_value | \n",
       "|---|---|---|---|---|---|\n",
       "| -114.31 | 34.19   | 15      | 5612    | 1283    | 1015    | 472     | 1.4936  | 66900   | \n",
       "| -114.47 | 34.40   | 19      | 7650    | 1901    | 1129    | 463     | 1.8200  | 80100   | \n",
       "| -114.56 | 33.69   | 17      |  720    |  174    |  333    | 117     | 1.6509  | 85700   | \n",
       "| -114.57 | 33.64   | 14      | 1501    |  337    |  515    | 226     | 3.1917  | 73400   | \n",
       "| -114.57 | 33.57   | 20      | 1454    |  326    |  624    | 262     | 1.9250  | 65500   | \n",
       "| -114.58 | 33.63   | 29      | 1387    |  236    |  671    | 239     | 3.3438  | 74000   | \n",
       "\n",
       "\n"
      ],
      "text/plain": [
       "  longitude latitude housing_median_age total_rooms total_bedrooms population\n",
       "1 -114.31   34.19    15                 5612        1283           1015      \n",
       "2 -114.47   34.40    19                 7650        1901           1129      \n",
       "3 -114.56   33.69    17                  720         174            333      \n",
       "4 -114.57   33.64    14                 1501         337            515      \n",
       "5 -114.57   33.57    20                 1454         326            624      \n",
       "6 -114.58   33.63    29                 1387         236            671      \n",
       "  households median_income median_house_value\n",
       "1 472        1.4936        66900             \n",
       "2 463        1.8200        80100             \n",
       "3 117        1.6509        85700             \n",
       "4 226        3.1917        73400             \n",
       "5 262        1.9250        65500             \n",
       "6 239        3.3438        74000             "
      ]
     },
     "metadata": {},
     "output_type": "display_data"
    }
   ],
   "source": [
    "# Get dataset\n",
    "URL = 'https://github.com/spiderPan/Google-Machine-Learning-Crash-Course/raw/master/data/california_housing_train.csv'\n",
    "df_housing <- read.csv(URL)\n",
    "head(df_housing)"
   ]
  },
  {
   "cell_type": "code",
   "execution_count": 12,
   "metadata": {},
   "outputs": [
    {
     "data": {
      "text/plain": [
       "   longitude         latitude     housing_median_age  total_rooms   \n",
       " Min.   :-124.3   Min.   :32.54   Min.   : 1.00      Min.   :    2  \n",
       " 1st Qu.:-121.8   1st Qu.:33.93   1st Qu.:18.00      1st Qu.: 1462  \n",
       " Median :-118.5   Median :34.25   Median :29.00      Median : 2127  \n",
       " Mean   :-119.6   Mean   :35.63   Mean   :28.59      Mean   : 2644  \n",
       " 3rd Qu.:-118.0   3rd Qu.:37.72   3rd Qu.:37.00      3rd Qu.: 3151  \n",
       " Max.   :-114.3   Max.   :41.95   Max.   :52.00      Max.   :37937  \n",
       " total_bedrooms     population      households     median_income    \n",
       " Min.   :   1.0   Min.   :    3   Min.   :   1.0   Min.   : 0.4999  \n",
       " 1st Qu.: 297.0   1st Qu.:  790   1st Qu.: 282.0   1st Qu.: 2.5664  \n",
       " Median : 434.0   Median : 1167   Median : 409.0   Median : 3.5446  \n",
       " Mean   : 539.4   Mean   : 1430   Mean   : 501.2   Mean   : 3.8836  \n",
       " 3rd Qu.: 648.2   3rd Qu.: 1721   3rd Qu.: 605.2   3rd Qu.: 4.7670  \n",
       " Max.   :6445.0   Max.   :35682   Max.   :6082.0   Max.   :15.0001  \n",
       " median_house_value\n",
       " Min.   : 14999    \n",
       " 1st Qu.:119400    \n",
       " Median :180400    \n",
       " Mean   :207301    \n",
       " 3rd Qu.:265000    \n",
       " Max.   :500001    "
      ]
     },
     "metadata": {},
     "output_type": "display_data"
    }
   ],
   "source": [
    "summary(df_housing)"
   ]
  },
  {
   "cell_type": "markdown",
   "metadata": {},
   "source": [
    "Let's focus on a few attributes:"
   ]
  },
  {
   "cell_type": "code",
   "execution_count": 13,
   "metadata": {
    "scrolled": false
   },
   "outputs": [
    {
     "data": {
      "image/png": "[encoded data removed]",
      "text/plain": [
       "plot without title"
      ]
     },
     "metadata": {},
     "output_type": "display_data"
    },
    {
     "data": {
      "image/png": "[encoded data removed]",
      "text/plain": [
       "plot without title"
      ]
     },
     "metadata": {},
     "output_type": "display_data"
    },
    {
     "data": {
      "image/png": "[encoded data removed]",
      "text/plain": [
       "plot without title"
      ]
     },
     "metadata": {},
     "output_type": "display_data"
    }
   ],
   "source": [
    "ggplot_histogram <- function(df, col, color=\"#FF6666\") {\n",
    "    print(\n",
    "        ggplot(df, aes_string(x=col)) + \n",
    "         geom_histogram(aes(y=..density..), colour=\"black\", fill=color, bins=100)\n",
    "         \n",
    "        )\n",
    "}\n",
    "\n",
    "interesting_cols = c('median_income', 'population', 'total_bedrooms')\n",
    "\n",
    "for (col in interesting_cols) {\n",
    "    ggplot_histogram(df_housing, col)\n",
    "}"
   ]
  },
  {
   "cell_type": "markdown",
   "metadata": {},
   "source": [
    "## Numeric Values &mdash; Normalization\n",
    "\n",
    "$$x_{new} = \\frac{x-x_{min}}{x_{max} - x_{min}}$$\n",
    "\n",
    "In this example we use scikit-learn's `preprocessing.normalize` method to perform the normalization, but it would be just as easy to do this with vanilla numpy methods."
   ]
  },
  {
   "cell_type": "code",
   "execution_count": 14,
   "metadata": {
    "scrolled": false
   },
   "outputs": [
    {
     "data": {
      "image/png": "[encoded data removed]",
      "text/plain": [
       "plot without title"
      ]
     },
     "metadata": {},
     "output_type": "display_data"
    },
    {
     "data": {
      "image/png": "[encoded data removed]",
      "text/plain": [
       "plot without title"
      ]
     },
     "metadata": {},
     "output_type": "display_data"
    }
   ],
   "source": [
    "# Normalize total_bedrooms column\n",
    "normalize <- function(x) {\n",
    "    return ((x - min(x)) / (max(x) - min(x)))\n",
    "  }\n",
    "\n",
    "# Add as new column to our data.frame\n",
    "df_housing$norm_bedrooms <- normalize(df_housing$total_bedrooms)\n",
    "\n",
    "# Plot with with original\n",
    "for (col in c('total_bedrooms', 'norm_bedrooms')) {\n",
    "    ggplot_histogram(df_housing, col, color=\"#6666FF\")\n",
    "}"
   ]
  },
  {
   "cell_type": "markdown",
   "metadata": {},
   "source": [
    "So we see the shape of the distribution is exactly the same, but the scale of the values is now constrained within $[0, 1]$."
   ]
  },
  {
   "cell_type": "markdown",
   "metadata": {},
   "source": [
    "## Numeric Values &mdash; Standardization\n",
    "\n",
    "$$x_{new} = \\frac{x-\\mu}{\\sigma}$$\n",
    "\n",
    "Here, we'll simply use the Base R function `scale()` to calculate a new column to our DataFrame."
   ]
  },
  {
   "cell_type": "code",
   "execution_count": 15,
   "metadata": {},
   "outputs": [
    {
     "data": {
      "image/png": "[encoded data removed]",
      "text/plain": [
       "plot without title"
      ]
     },
     "metadata": {},
     "output_type": "display_data"
    },
    {
     "data": {
      "image/png": "[encoded data removed]",
      "text/plain": [
       "plot without title"
      ]
     },
     "metadata": {},
     "output_type": "display_data"
    }
   ],
   "source": [
    "# Add as new column to our data.frame\n",
    "df_housing$standard_income <- scale(df_housing$median_income)\n",
    "\n",
    "# Plot with with original\n",
    "for (col in c('median_income', 'standard_income')) {\n",
    "    ggplot_histogram(df_housing, col, color=\"#663366\")\n",
    "}"
   ]
  },
  {
   "cell_type": "markdown",
   "metadata": {},
   "source": [
    "Again, the shape of the distribution is exactly the same, but this time the mean of the distribution is at zero, and the unit value is equal to one standard deviation away from the mean."
   ]
  },
  {
   "cell_type": "markdown",
   "metadata": {},
   "source": [
    "## Numeric Values &mdash; Outliers"
   ]
  },
  {
   "cell_type": "markdown",
   "metadata": {},
   "source": [
    "### Z-Score\n",
    "This method uses the same function as for standardization, but uses the Z-score number as a threshold value that determines whether we keep that value or not. In this case, we decide to remove any value that is farther than 5 standard deviations away from the average.\n",
    "\n",
    "Expert knowledge of the domain is sometimes required in order to set the threshold value."
   ]
  },
  {
   "cell_type": "code",
   "execution_count": 16,
   "metadata": {},
   "outputs": [
    {
     "data": {
      "image/png": "[encoded data removed]",
      "text/plain": [
       "plot without title"
      ]
     },
     "metadata": {},
     "output_type": "display_data"
    },
    {
     "data": {
      "image/png": "[encoded data removed]",
      "text/plain": [
       "plot without title"
      ]
     },
     "metadata": {},
     "output_type": "display_data"
    }
   ],
   "source": [
    "is_outlier <- function(x, threshold=5.0) {\n",
    "    # Returns true if the value exceeds the threshold from distribution mean.\n",
    "    # Default: 5 standard deviations.\n",
    "    return(abs(scale(x)) < threshold)\n",
    "}\n",
    "\n",
    "\n",
    "# Plot the original\n",
    "ggplot_histogram(df_housing, 'population', color=\"#A3D8E6\")\n",
    "\n",
    "# Plot the cleaned version\n",
    "cleaned <- df_housing[is_outlier(df_housing$population),]\n",
    "ggplot_histogram(cleaned, 'population', color=\"#A3D8E6\")"
   ]
  }
 ],
 "metadata": {
  "kernelspec": {
   "display_name": "R",
   "language": "R",
   "name": "ir"
  },
  "language_info": {
   "codemirror_mode": "r",
   "file_extension": ".r",
   "mimetype": "text/x-r-source",
   "name": "R",
   "pygments_lexer": "r",
   "version": "3.4.3"
  }
 },
 "nbformat": 4,
 "nbformat_minor": 2
}
