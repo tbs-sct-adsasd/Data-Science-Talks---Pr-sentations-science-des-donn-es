{
 "cells": [
  {
   "cell_type": "markdown",
   "metadata": {},
   "source": [
    "## Identifying missing values in tabular data"
   ]
  },
  {
   "cell_type": "markdown",
   "metadata": {},
   "source": [
    "Before we discuss several techniques for dealing with missing values, let's create a simple example data frame from a mock Comma-separated Values (CSV) file to get a better grasp of the problem:"
   ]
  },
  {
   "cell_type": "code",
   "execution_count": 1,
   "metadata": {},
   "outputs": [
    {
     "data": {
      "text/html": [
       "<table>\n",
       "<thead><tr><th scope=col>A</th><th scope=col>B</th><th scope=col>C</th><th scope=col>D</th></tr></thead>\n",
       "<tbody>\n",
       "\t<tr><td> 1 </td><td> 2 </td><td>  3</td><td>  4</td></tr>\n",
       "\t<tr><td> 5 </td><td> 6 </td><td>NaN</td><td>  8</td></tr>\n",
       "\t<tr><td>10 </td><td>11 </td><td> 12</td><td>NaN</td></tr>\n",
       "</tbody>\n",
       "</table>\n"
      ],
      "text/latex": [
       "\\begin{tabular}{r|llll}\n",
       " A & B & C & D\\\\\n",
       "\\hline\n",
       "\t  1  &  2  &   3 &   4\\\\\n",
       "\t  5  &  6  & NaN &   8\\\\\n",
       "\t 10  & 11  &  12 & NaN\\\\\n",
       "\\end{tabular}\n"
      ],
      "text/markdown": [
       "\n",
       "A | B | C | D | \n",
       "|---|---|---|\n",
       "|  1  |  2  |   3 |   4 | \n",
       "|  5  |  6  | NaN |   8 | \n",
       "| 10  | 11  |  12 | NaN | \n",
       "\n",
       "\n"
      ],
      "text/plain": [
       "  A  B  C   D  \n",
       "1  1  2   3   4\n",
       "2  5  6 NaN   8\n",
       "3 10 11  12 NaN"
      ]
     },
     "metadata": {},
     "output_type": "display_data"
    }
   ],
   "source": [
    "A <- c(1.0, 5.0, 10.0)\n",
    "B <- c(2.0, 6.0, 11.0)\n",
    "C <- c(3.0, NaN, 12.0)\n",
    "D <- c(4.0, 8.0, NaN)\n",
    "\n",
    "df <- data.frame(A, B, C, D)\n",
    "df"
   ]
  },
  {
   "cell_type": "markdown",
   "metadata": {},
   "source": [
    "Now will see for missing values in the dataset:"
   ]
  },
  {
   "cell_type": "code",
   "execution_count": 2,
   "metadata": {},
   "outputs": [
    {
     "data": {
      "text/html": [
       "<table>\n",
       "<thead><tr><th scope=col>A</th><th scope=col>B</th><th scope=col>C</th><th scope=col>D</th></tr></thead>\n",
       "<tbody>\n",
       "\t<tr><td>FALSE</td><td>FALSE</td><td>FALSE</td><td>FALSE</td></tr>\n",
       "\t<tr><td>FALSE</td><td>FALSE</td><td> TRUE</td><td>FALSE</td></tr>\n",
       "\t<tr><td>FALSE</td><td>FALSE</td><td>FALSE</td><td> TRUE</td></tr>\n",
       "</tbody>\n",
       "</table>\n"
      ],
      "text/latex": [
       "\\begin{tabular}{llll}\n",
       " A & B & C & D\\\\\n",
       "\\hline\n",
       "\t FALSE & FALSE & FALSE & FALSE\\\\\n",
       "\t FALSE & FALSE &  TRUE & FALSE\\\\\n",
       "\t FALSE & FALSE & FALSE &  TRUE\\\\\n",
       "\\end{tabular}\n"
      ],
      "text/markdown": [
       "\n",
       "A | B | C | D | \n",
       "|---|---|---|\n",
       "| FALSE | FALSE | FALSE | FALSE | \n",
       "| FALSE | FALSE |  TRUE | FALSE | \n",
       "| FALSE | FALSE | FALSE |  TRUE | \n",
       "\n",
       "\n"
      ],
      "text/plain": [
       "     A     B     C     D    \n",
       "[1,] FALSE FALSE FALSE FALSE\n",
       "[2,] FALSE FALSE  TRUE FALSE\n",
       "[3,] FALSE FALSE FALSE  TRUE"
      ]
     },
     "metadata": {},
     "output_type": "display_data"
    }
   ],
   "source": [
    "is.na(df)"
   ]
  },
  {
   "cell_type": "markdown",
   "metadata": {},
   "source": [
    "Compute the total missing values in each column is to use `colSums()`:"
   ]
  },
  {
   "cell_type": "code",
   "execution_count": 3,
   "metadata": {},
   "outputs": [
    {
     "data": {
      "text/html": [
       "<dl class=dl-horizontal>\n",
       "\t<dt>A</dt>\n",
       "\t\t<dd>0</dd>\n",
       "\t<dt>B</dt>\n",
       "\t\t<dd>0</dd>\n",
       "\t<dt>C</dt>\n",
       "\t\t<dd>1</dd>\n",
       "\t<dt>D</dt>\n",
       "\t\t<dd>1</dd>\n",
       "</dl>\n"
      ],
      "text/latex": [
       "\\begin{description*}\n",
       "\\item[A] 0\n",
       "\\item[B] 0\n",
       "\\item[C] 1\n",
       "\\item[D] 1\n",
       "\\end{description*}\n"
      ],
      "text/markdown": [
       "A\n",
       ":   0B\n",
       ":   0C\n",
       ":   1D\n",
       ":   1\n",
       "\n"
      ],
      "text/plain": [
       "A B C D \n",
       "0 0 1 1 "
      ]
     },
     "metadata": {},
     "output_type": "display_data"
    }
   ],
   "source": [
    "colSums(is.na(df))"
   ]
  },
  {
   "cell_type": "markdown",
   "metadata": {},
   "source": [
    "## Eliminating samples or features with missing values"
   ]
  },
  {
   "cell_type": "code",
   "execution_count": 4,
   "metadata": {},
   "outputs": [
    {
     "data": {
      "text/html": [
       "<table>\n",
       "<thead><tr><th scope=col>A</th><th scope=col>B</th><th scope=col>C</th><th scope=col>D</th></tr></thead>\n",
       "<tbody>\n",
       "\t<tr><td>1</td><td>2</td><td>3</td><td>4</td></tr>\n",
       "</tbody>\n",
       "</table>\n"
      ],
      "text/latex": [
       "\\begin{tabular}{r|llll}\n",
       " A & B & C & D\\\\\n",
       "\\hline\n",
       "\t 1 & 2 & 3 & 4\\\\\n",
       "\\end{tabular}\n"
      ],
      "text/markdown": [
       "\n",
       "A | B | C | D | \n",
       "|---|\n",
       "| 1 | 2 | 3 | 4 | \n",
       "\n",
       "\n"
      ],
      "text/plain": [
       "  A B C D\n",
       "1 1 2 3 4"
      ]
     },
     "metadata": {},
     "output_type": "display_data"
    }
   ],
   "source": [
    "na.omit(df)"
   ]
  },
  {
   "cell_type": "markdown",
   "metadata": {},
   "source": [
    "## Imputing missing values"
   ]
  },
  {
   "cell_type": "code",
   "execution_count": 5,
   "metadata": {},
   "outputs": [
    {
     "data": {
      "text/html": [
       "<table>\n",
       "<thead><tr><th scope=col>A</th><th scope=col>B</th><th scope=col>C</th><th scope=col>D</th></tr></thead>\n",
       "<tbody>\n",
       "\t<tr><td> 1 </td><td> 2 </td><td>  3</td><td>4  </td></tr>\n",
       "\t<tr><td> 5 </td><td> 6 </td><td>NaN</td><td>8  </td></tr>\n",
       "\t<tr><td>10 </td><td>11 </td><td> 12</td><td>6  </td></tr>\n",
       "</tbody>\n",
       "</table>\n"
      ],
      "text/latex": [
       "\\begin{tabular}{r|llll}\n",
       " A & B & C & D\\\\\n",
       "\\hline\n",
       "\t  1  &  2  &   3 & 4  \\\\\n",
       "\t  5  &  6  & NaN & 8  \\\\\n",
       "\t 10  & 11  &  12 & 6  \\\\\n",
       "\\end{tabular}\n"
      ],
      "text/markdown": [
       "\n",
       "A | B | C | D | \n",
       "|---|---|---|\n",
       "|  1  |  2  |   3 | 4   | \n",
       "|  5  |  6  | NaN | 8   | \n",
       "| 10  | 11  |  12 | 6   | \n",
       "\n",
       "\n"
      ],
      "text/plain": [
       "  A  B  C   D\n",
       "1  1  2   3 4\n",
       "2  5  6 NaN 8\n",
       "3 10 11  12 6"
      ]
     },
     "metadata": {},
     "output_type": "display_data"
    }
   ],
   "source": [
    "df$D[is.na(df$D)] <- mean(df$D, na.rm = TRUE)\n",
    "df"
   ]
  },
  {
   "cell_type": "markdown",
   "metadata": {},
   "source": [
    "## Filling in missing values automatically"
   ]
  },
  {
   "cell_type": "code",
   "execution_count": 6,
   "metadata": {},
   "outputs": [
    {
     "data": {
      "text/html": [
       "<table>\n",
       "<thead><tr><th scope=col>A</th><th scope=col>B</th><th scope=col>C</th><th scope=col>D</th></tr></thead>\n",
       "<tbody>\n",
       "\t<tr><td> 1</td><td> 2</td><td> 3</td><td>4 </td></tr>\n",
       "\t<tr><td> 5</td><td> 6</td><td> 0</td><td>8 </td></tr>\n",
       "\t<tr><td>10</td><td>11</td><td>12</td><td>6 </td></tr>\n",
       "</tbody>\n",
       "</table>\n"
      ],
      "text/latex": [
       "\\begin{tabular}{r|llll}\n",
       " A & B & C & D\\\\\n",
       "\\hline\n",
       "\t  1 &  2 &  3 & 4 \\\\\n",
       "\t  5 &  6 &  0 & 8 \\\\\n",
       "\t 10 & 11 & 12 & 6 \\\\\n",
       "\\end{tabular}\n"
      ],
      "text/markdown": [
       "\n",
       "A | B | C | D | \n",
       "|---|---|---|\n",
       "|  1 |  2 |  3 | 4  | \n",
       "|  5 |  6 |  0 | 8  | \n",
       "| 10 | 11 | 12 | 6  | \n",
       "\n",
       "\n"
      ],
      "text/plain": [
       "  A  B  C  D\n",
       "1  1  2  3 4\n",
       "2  5  6  0 8\n",
       "3 10 11 12 6"
      ]
     },
     "metadata": {},
     "output_type": "display_data"
    }
   ],
   "source": [
    "df[df == \"NaN\"] <- 0\n",
    "df"
   ]
  }
 ],
 "metadata": {
  "kernelspec": {
   "display_name": "R",
   "language": "R",
   "name": "ir"
  },
  "language_info": {
   "codemirror_mode": "r",
   "file_extension": ".r",
   "mimetype": "text/x-r-source",
   "name": "R",
   "pygments_lexer": "r",
   "version": "3.4.3"
  }
 },
 "nbformat": 4,
 "nbformat_minor": 2
}
